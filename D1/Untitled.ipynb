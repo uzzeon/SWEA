{
 "cells": [
  {
   "cell_type": "code",
   "execution_count": null,
   "id": "bffd452e",
   "metadata": {},
   "outputs": [],
   "source": [
    "# T = int(input())\n",
    "\n",
    "# for test_case in range(1, T + 1):\n",
    "    \n",
    "    numbers = list(map(int, input().split()))\n",
    "    \n",
    "    numbers = sorted(numbers)\n",
    "    mid_num = numbers[len(numbers)//2]\n",
    "            \n",
    "    print(f'{mid_num}') "
   ]
  },
  {
   "cell_type": "code",
   "execution_count": null,
   "id": "357d78a5",
   "metadata": {},
   "outputs": [],
   "source": []
  },
  {
   "cell_type": "code",
   "execution_count": null,
   "id": "33b9aa64",
   "metadata": {},
   "outputs": [],
   "source": [
    "T = int(input())\n",
    "numbers = list(map(int, input().split()))\n",
    "    \n",
    "numbers = sorted(numbers)\n",
    "mid_num = numbers[len(numbers)//2]\n",
    "            \n",
    "print(f'{mid_num}')"
   ]
  },
  {
   "cell_type": "code",
   "execution_count": null,
   "id": "d8f4f988",
   "metadata": {},
   "outputs": [],
   "source": [
    "num = input()\n",
    "a = list(map(int, num))\n",
    "b = list(map(int, num.split(','))) #문자열에 split을 쓰면 list로 변환 # ','이 없는데 split을 쓰면 원본값을 그냥 주고 list로 씌워줌\n",
    "print(a)\n",
    "print(b)"
   ]
  },
  {
   "cell_type": "code",
   "execution_count": null,
   "id": "f3e2a6c8",
   "metadata": {},
   "outputs": [],
   "source": [
    "N = int(input())\n",
    "\n",
    "result = 0\n",
    "\n",
    "while N % 10 != 0:\n",
    "    result += N % 10\n",
    "    N = N // 10\n",
    "    \n",
    "print(result)"
   ]
  },
  {
   "cell_type": "code",
   "execution_count": null,
   "id": "89e1f367",
   "metadata": {},
   "outputs": [],
   "source": [
    "ord('A'), ord('Z')"
   ]
  },
  {
   "cell_type": "code",
   "execution_count": null,
   "id": "e9c8816c",
   "metadata": {},
   "outputs": [],
   "source": [
    "# 2050\n",
    "\n",
    "alphabets = list(input().upper())\n",
    "answer = []\n",
    "for alphabet in alphabets:\n",
    "    answer.append(str(ord(alphabet) - 64))\n",
    "    \n",
    "print(' '.join(answer))    "
   ]
  },
  {
   "cell_type": "code",
   "execution_count": null,
   "id": "d74f3961",
   "metadata": {},
   "outputs": [],
   "source": [
    "# 2047\n",
    "\n",
    "alphabets = input()\n",
    "\n",
    "print(alphabets.upper())"
   ]
  },
  {
   "cell_type": "code",
   "execution_count": null,
   "id": "7676c599",
   "metadata": {},
   "outputs": [],
   "source": []
  },
  {
   "cell_type": "code",
   "execution_count": null,
   "id": "156f333f",
   "metadata": {},
   "outputs": [],
   "source": [
    "# 2056\n",
    "\n",
    "T = int(input())\n",
    "\n",
    "for test_case in range(1, T + 1):\n",
    "    \n",
    "    numbers = ('%s' % input())\n",
    "    \n",
    "    year = int(numbers[0:4])\n",
    "    month = int(numbers[4:6])\n",
    "    day = int(numbers[6:])\n",
    "\n",
    "    if month in [1, 3, 5, 7, 8, 10, 12]:\n",
    "        if 1 <= day <= 31:\n",
    "            print(\"#%s %04d/%02d/%02d\" %(test_case, year, month, day))\n",
    "        else:\n",
    "            print(f'#{test_case} -1')\n",
    "\n",
    "    elif month in [4, 6, 9, 11]:\n",
    "        if 1 <= day <= 30:\n",
    "            print(\"#%s %04d/%02d/%02d\" %(test_case, year, month, day))\n",
    "        else:\n",
    "            print(f'#{test_case} -1')\n",
    "\n",
    "    elif month == 2:\n",
    "        if 1 <= day <= 28:\n",
    "            print(\"#%s %04d/%02d/%02d\" %(test_case, year, month, day))\n",
    "        else:\n",
    "            print(f'#{test_case} -1')\n",
    "    \n",
    "    else:\n",
    "        print(f'#{test_case} -1')\n",
    "\n",
    "     "
   ]
  },
  {
   "cell_type": "code",
   "execution_count": null,
   "id": "4eb1d753",
   "metadata": {},
   "outputs": [],
   "source": [
    "# 2056\n",
    "\n",
    "T = int(input())\n",
    "\n",
    "for test_case in range(1, T + 1):\n",
    "    \n",
    "    numbers = list(map(int, input().split()))\n",
    "\n",
    "    year = numbers[0] // 10000\n",
    "    month = (numbers[0] // 100) % 100\n",
    "    day = numbers[0] % 100\n",
    "\n",
    "    if month in [1, 3, 5, 7, 8, 10, 12]:\n",
    "        if 1 <= day <= 31:\n",
    "            print(\"#%s %04d/%02d/%02d\" %(test_case, year, month, day))\n",
    "        else:\n",
    "            print(f'#{test_case} -1')\n",
    "\n",
    "    elif month in [4, 6, 9, 11]:\n",
    "        if 1 <= day <= 30:\n",
    "            print(\"#%s %04d/%02d/%02d\" %(test_case, year, month, day))\n",
    "        else:\n",
    "            print(f'#{test_case} -1')\n",
    "\n",
    "    elif month == 2:\n",
    "        if 1 <= day <= 28:\n",
    "            print(\"#%s %04d/%02d/%02d\" %(test_case, year, month, day))\n",
    "        else:\n",
    "            print(f'#{test_case} -1')\n",
    "    \n",
    "    else:\n",
    "        print(f'#{test_case} -1')"
   ]
  },
  {
   "cell_type": "code",
   "execution_count": null,
   "id": "27e5927d",
   "metadata": {},
   "outputs": [],
   "source": []
  },
  {
   "cell_type": "code",
   "execution_count": null,
   "id": "bec957e7",
   "metadata": {},
   "outputs": [],
   "source": [
    "# 2043\n",
    "\n",
    "P, K = map(int, input().split())\n",
    "\n",
    "if P > K:\n",
    "    print(P-K+1)\n",
    "    \n",
    "elif P < K:\n",
    "    print(1000-K + P + 1)\n",
    "    \n",
    "else:\n",
    "    print(1)"
   ]
  },
  {
   "cell_type": "code",
   "execution_count": null,
   "id": "6be0879a",
   "metadata": {},
   "outputs": [],
   "source": [
    "# 2029\n",
    "\n",
    "T = int(input())\n",
    "\n",
    "for test_case in range(1, T + 1):\n",
    "    \n",
    "     numbers = list(map(int, input().split()))\n",
    "    \n",
    "    for number in numbers:\n",
    "        answer = number[0]//number[1], number[0]%number[1]\n",
    "    \n",
    "print(f'#{test_case} {answer}')"
   ]
  },
  {
   "cell_type": "code",
   "execution_count": null,
   "id": "1170050b",
   "metadata": {},
   "outputs": [],
   "source": [
    "T = int(input())\n",
    "\n",
    "for test_case in range(1, T + 1):\n",
    "    \n",
    "    a, b = map(int, input().split())\n",
    "    \n",
    "    answer1 = a // b, \n",
    "    answer2 = a % b\n",
    "    \n",
    "    print(f'#{test_case} {a} {b}')"
   ]
  }
 ],
 "metadata": {
  "kernelspec": {
   "display_name": "Python 3 (ipykernel)",
   "language": "python",
   "name": "python3"
  },
  "language_info": {
   "codemirror_mode": {
    "name": "ipython",
    "version": 3
   },
   "file_extension": ".py",
   "mimetype": "text/x-python",
   "name": "python",
   "nbconvert_exporter": "python",
   "pygments_lexer": "ipython3",
   "version": "3.9.9"
  }
 },
 "nbformat": 4,
 "nbformat_minor": 5
}
