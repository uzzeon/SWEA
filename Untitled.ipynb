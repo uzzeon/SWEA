{
 "cells": [
  {
   "cell_type": "code",
   "execution_count": null,
   "id": "bffd452e",
   "metadata": {},
   "outputs": [],
   "source": [
    "# T = int(input())\n",
    "\n",
    "# for test_case in range(1, T + 1):\n",
    "    \n",
    "    numbers = list(map(int, input().split()))\n",
    "    \n",
    "    numbers = sorted(numbers)\n",
    "    mid_num = numbers[len(numbers)//2]\n",
    "            \n",
    "    print(f'{mid_num}') "
   ]
  },
  {
   "cell_type": "code",
   "execution_count": null,
   "id": "357d78a5",
   "metadata": {},
   "outputs": [],
   "source": []
  },
  {
   "cell_type": "code",
   "execution_count": 1,
   "id": "33b9aa64",
   "metadata": {},
   "outputs": [
    {
     "name": "stdout",
     "output_type": "stream",
     "text": [
      "5\n",
      "1 3 5 7 9\n",
      "5\n"
     ]
    }
   ],
   "source": [
    "T = int(input())\n",
    "numbers = list(map(int, input().split()))\n",
    "    \n",
    "numbers = sorted(numbers)\n",
    "mid_num = numbers[len(numbers)//2]\n",
    "            \n",
    "print(f'{mid_num}')"
   ]
  },
  {
   "cell_type": "code",
   "execution_count": 4,
   "id": "d8f4f988",
   "metadata": {},
   "outputs": [
    {
     "name": "stdout",
     "output_type": "stream",
     "text": [
      "6789\n",
      "[6, 7, 8, 9]\n",
      "[6789]\n"
     ]
    }
   ],
   "source": [
    "num = input()\n",
    "a = list(map(int, num))\n",
    "b = list(map(int, num.split(','))) #문자열에 split을 쓰면 list로 변환 # ','이 없는데 split을 쓰면 원본값을 그냥 주고 list로 씌워줌\n",
    "print(a)\n",
    "print(b)"
   ]
  },
  {
   "cell_type": "code",
   "execution_count": null,
   "id": "f3e2a6c8",
   "metadata": {},
   "outputs": [],
   "source": [
    "N = int(input())\n",
    "\n",
    "result = 0\n",
    "\n",
    "while N % 10 != 0:\n",
    "    result += N % 10\n",
    "    N = N // 10\n",
    "    \n",
    "print(result)"
   ]
  }
 ],
 "metadata": {
  "kernelspec": {
   "display_name": "Python 3 (ipykernel)",
   "language": "python",
   "name": "python3"
  },
  "language_info": {
   "codemirror_mode": {
    "name": "ipython",
    "version": 3
   },
   "file_extension": ".py",
   "mimetype": "text/x-python",
   "name": "python",
   "nbconvert_exporter": "python",
   "pygments_lexer": "ipython3",
   "version": "3.9.9"
  }
 },
 "nbformat": 4,
 "nbformat_minor": 5
}
